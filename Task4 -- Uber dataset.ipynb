{
 "cells": [
  {
   "cell_type": "code",
   "execution_count": 1,
   "metadata": {},
   "outputs": [],
   "source": [
    "import pandas as pd\n",
    "import numpy as np\n",
    "import matplotlib.pyplot as plt\n",
    "import seaborn as sns\n",
    "%matplotlib inline"
   ]
  },
  {
   "cell_type": "code",
   "execution_count": 2,
   "metadata": {},
   "outputs": [],
   "source": [
    "apr = pd.read_csv(\"uber-raw-data-apr14.csv\")"
   ]
  },
  {
   "cell_type": "code",
   "execution_count": 3,
   "metadata": {},
   "outputs": [
    {
     "data": {
      "text/html": [
       "<div>\n",
       "<style scoped>\n",
       "    .dataframe tbody tr th:only-of-type {\n",
       "        vertical-align: middle;\n",
       "    }\n",
       "\n",
       "    .dataframe tbody tr th {\n",
       "        vertical-align: top;\n",
       "    }\n",
       "\n",
       "    .dataframe thead th {\n",
       "        text-align: right;\n",
       "    }\n",
       "</style>\n",
       "<table border=\"1\" class=\"dataframe\">\n",
       "  <thead>\n",
       "    <tr style=\"text-align: right;\">\n",
       "      <th></th>\n",
       "      <th>Date/Time</th>\n",
       "      <th>Lat</th>\n",
       "      <th>Lon</th>\n",
       "      <th>Base</th>\n",
       "    </tr>\n",
       "  </thead>\n",
       "  <tbody>\n",
       "    <tr>\n",
       "      <th>0</th>\n",
       "      <td>04-01-2014 00:11</td>\n",
       "      <td>40.7690</td>\n",
       "      <td>-73.9549</td>\n",
       "      <td>B02512</td>\n",
       "    </tr>\n",
       "    <tr>\n",
       "      <th>1</th>\n",
       "      <td>04-01-2014 00:17</td>\n",
       "      <td>40.7267</td>\n",
       "      <td>-74.0345</td>\n",
       "      <td>B02512</td>\n",
       "    </tr>\n",
       "    <tr>\n",
       "      <th>2</th>\n",
       "      <td>04-01-2014 00:21</td>\n",
       "      <td>40.7316</td>\n",
       "      <td>-73.9873</td>\n",
       "      <td>B02512</td>\n",
       "    </tr>\n",
       "    <tr>\n",
       "      <th>3</th>\n",
       "      <td>04-01-2014 00:28</td>\n",
       "      <td>40.7588</td>\n",
       "      <td>-73.9776</td>\n",
       "      <td>B02512</td>\n",
       "    </tr>\n",
       "    <tr>\n",
       "      <th>4</th>\n",
       "      <td>04-01-2014 00:33</td>\n",
       "      <td>40.7594</td>\n",
       "      <td>-73.9722</td>\n",
       "      <td>B02512</td>\n",
       "    </tr>\n",
       "  </tbody>\n",
       "</table>\n",
       "</div>"
      ],
      "text/plain": [
       "          Date/Time      Lat      Lon    Base\n",
       "0  04-01-2014 00:11  40.7690 -73.9549  B02512\n",
       "1  04-01-2014 00:17  40.7267 -74.0345  B02512\n",
       "2  04-01-2014 00:21  40.7316 -73.9873  B02512\n",
       "3  04-01-2014 00:28  40.7588 -73.9776  B02512\n",
       "4  04-01-2014 00:33  40.7594 -73.9722  B02512"
      ]
     },
     "execution_count": 3,
     "metadata": {},
     "output_type": "execute_result"
    }
   ],
   "source": [
    "apr.head()"
   ]
  },
  {
   "cell_type": "code",
   "execution_count": 4,
   "metadata": {},
   "outputs": [],
   "source": [
    "aug = pd.read_csv(\"uber-raw-data-aug14.csv\")"
   ]
  },
  {
   "cell_type": "code",
   "execution_count": 5,
   "metadata": {},
   "outputs": [
    {
     "data": {
      "text/html": [
       "<div>\n",
       "<style scoped>\n",
       "    .dataframe tbody tr th:only-of-type {\n",
       "        vertical-align: middle;\n",
       "    }\n",
       "\n",
       "    .dataframe tbody tr th {\n",
       "        vertical-align: top;\n",
       "    }\n",
       "\n",
       "    .dataframe thead th {\n",
       "        text-align: right;\n",
       "    }\n",
       "</style>\n",
       "<table border=\"1\" class=\"dataframe\">\n",
       "  <thead>\n",
       "    <tr style=\"text-align: right;\">\n",
       "      <th></th>\n",
       "      <th>Date/Time</th>\n",
       "      <th>Lat</th>\n",
       "      <th>Lon</th>\n",
       "      <th>Base</th>\n",
       "    </tr>\n",
       "  </thead>\n",
       "  <tbody>\n",
       "    <tr>\n",
       "      <th>0</th>\n",
       "      <td>8/1/2014 0:03:00</td>\n",
       "      <td>40.7366</td>\n",
       "      <td>-73.9906</td>\n",
       "      <td>B02512</td>\n",
       "    </tr>\n",
       "    <tr>\n",
       "      <th>1</th>\n",
       "      <td>8/1/2014 0:09:00</td>\n",
       "      <td>40.7260</td>\n",
       "      <td>-73.9918</td>\n",
       "      <td>B02512</td>\n",
       "    </tr>\n",
       "    <tr>\n",
       "      <th>2</th>\n",
       "      <td>8/1/2014 0:12:00</td>\n",
       "      <td>40.7209</td>\n",
       "      <td>-74.0507</td>\n",
       "      <td>B02512</td>\n",
       "    </tr>\n",
       "    <tr>\n",
       "      <th>3</th>\n",
       "      <td>8/1/2014 0:12:00</td>\n",
       "      <td>40.7387</td>\n",
       "      <td>-73.9856</td>\n",
       "      <td>B02512</td>\n",
       "    </tr>\n",
       "    <tr>\n",
       "      <th>4</th>\n",
       "      <td>8/1/2014 0:12:00</td>\n",
       "      <td>40.7323</td>\n",
       "      <td>-74.0077</td>\n",
       "      <td>B02512</td>\n",
       "    </tr>\n",
       "  </tbody>\n",
       "</table>\n",
       "</div>"
      ],
      "text/plain": [
       "          Date/Time      Lat      Lon    Base\n",
       "0  8/1/2014 0:03:00  40.7366 -73.9906  B02512\n",
       "1  8/1/2014 0:09:00  40.7260 -73.9918  B02512\n",
       "2  8/1/2014 0:12:00  40.7209 -74.0507  B02512\n",
       "3  8/1/2014 0:12:00  40.7387 -73.9856  B02512\n",
       "4  8/1/2014 0:12:00  40.7323 -74.0077  B02512"
      ]
     },
     "execution_count": 5,
     "metadata": {},
     "output_type": "execute_result"
    }
   ],
   "source": [
    "aug.head()"
   ]
  },
  {
   "cell_type": "code",
   "execution_count": 6,
   "metadata": {},
   "outputs": [],
   "source": [
    "jul = pd.read_csv(\"uber-raw-data-jul14.csv\")"
   ]
  },
  {
   "cell_type": "code",
   "execution_count": 7,
   "metadata": {},
   "outputs": [
    {
     "data": {
      "text/html": [
       "<div>\n",
       "<style scoped>\n",
       "    .dataframe tbody tr th:only-of-type {\n",
       "        vertical-align: middle;\n",
       "    }\n",
       "\n",
       "    .dataframe tbody tr th {\n",
       "        vertical-align: top;\n",
       "    }\n",
       "\n",
       "    .dataframe thead th {\n",
       "        text-align: right;\n",
       "    }\n",
       "</style>\n",
       "<table border=\"1\" class=\"dataframe\">\n",
       "  <thead>\n",
       "    <tr style=\"text-align: right;\">\n",
       "      <th></th>\n",
       "      <th>Date/Time</th>\n",
       "      <th>Lat</th>\n",
       "      <th>Lon</th>\n",
       "      <th>Base</th>\n",
       "    </tr>\n",
       "  </thead>\n",
       "  <tbody>\n",
       "    <tr>\n",
       "      <th>0</th>\n",
       "      <td>7/1/2014 0:03:00</td>\n",
       "      <td>40.7586</td>\n",
       "      <td>-73.9706</td>\n",
       "      <td>B02512</td>\n",
       "    </tr>\n",
       "    <tr>\n",
       "      <th>1</th>\n",
       "      <td>7/1/2014 0:05:00</td>\n",
       "      <td>40.7605</td>\n",
       "      <td>-73.9994</td>\n",
       "      <td>B02512</td>\n",
       "    </tr>\n",
       "    <tr>\n",
       "      <th>2</th>\n",
       "      <td>7/1/2014 0:06:00</td>\n",
       "      <td>40.7320</td>\n",
       "      <td>-73.9999</td>\n",
       "      <td>B02512</td>\n",
       "    </tr>\n",
       "    <tr>\n",
       "      <th>3</th>\n",
       "      <td>7/1/2014 0:09:00</td>\n",
       "      <td>40.7635</td>\n",
       "      <td>-73.9793</td>\n",
       "      <td>B02512</td>\n",
       "    </tr>\n",
       "    <tr>\n",
       "      <th>4</th>\n",
       "      <td>7/1/2014 0:20:00</td>\n",
       "      <td>40.7204</td>\n",
       "      <td>-74.0047</td>\n",
       "      <td>B02512</td>\n",
       "    </tr>\n",
       "  </tbody>\n",
       "</table>\n",
       "</div>"
      ],
      "text/plain": [
       "          Date/Time      Lat      Lon    Base\n",
       "0  7/1/2014 0:03:00  40.7586 -73.9706  B02512\n",
       "1  7/1/2014 0:05:00  40.7605 -73.9994  B02512\n",
       "2  7/1/2014 0:06:00  40.7320 -73.9999  B02512\n",
       "3  7/1/2014 0:09:00  40.7635 -73.9793  B02512\n",
       "4  7/1/2014 0:20:00  40.7204 -74.0047  B02512"
      ]
     },
     "execution_count": 7,
     "metadata": {},
     "output_type": "execute_result"
    }
   ],
   "source": [
    "jul.head()"
   ]
  },
  {
   "cell_type": "code",
   "execution_count": 8,
   "metadata": {},
   "outputs": [],
   "source": [
    "jun = pd.read_csv(\"uber-raw-data-jun14.csv\")"
   ]
  },
  {
   "cell_type": "code",
   "execution_count": 9,
   "metadata": {},
   "outputs": [
    {
     "data": {
      "text/html": [
       "<div>\n",
       "<style scoped>\n",
       "    .dataframe tbody tr th:only-of-type {\n",
       "        vertical-align: middle;\n",
       "    }\n",
       "\n",
       "    .dataframe tbody tr th {\n",
       "        vertical-align: top;\n",
       "    }\n",
       "\n",
       "    .dataframe thead th {\n",
       "        text-align: right;\n",
       "    }\n",
       "</style>\n",
       "<table border=\"1\" class=\"dataframe\">\n",
       "  <thead>\n",
       "    <tr style=\"text-align: right;\">\n",
       "      <th></th>\n",
       "      <th>Date/Time</th>\n",
       "      <th>Lat</th>\n",
       "      <th>Lon</th>\n",
       "      <th>Base</th>\n",
       "    </tr>\n",
       "  </thead>\n",
       "  <tbody>\n",
       "    <tr>\n",
       "      <th>0</th>\n",
       "      <td>6/1/2014 0:00:00</td>\n",
       "      <td>40.7293</td>\n",
       "      <td>-73.9920</td>\n",
       "      <td>B02512</td>\n",
       "    </tr>\n",
       "    <tr>\n",
       "      <th>1</th>\n",
       "      <td>6/1/2014 0:01:00</td>\n",
       "      <td>40.7131</td>\n",
       "      <td>-74.0097</td>\n",
       "      <td>B02512</td>\n",
       "    </tr>\n",
       "    <tr>\n",
       "      <th>2</th>\n",
       "      <td>6/1/2014 0:04:00</td>\n",
       "      <td>40.3461</td>\n",
       "      <td>-74.6610</td>\n",
       "      <td>B02512</td>\n",
       "    </tr>\n",
       "    <tr>\n",
       "      <th>3</th>\n",
       "      <td>6/1/2014 0:04:00</td>\n",
       "      <td>40.7555</td>\n",
       "      <td>-73.9833</td>\n",
       "      <td>B02512</td>\n",
       "    </tr>\n",
       "    <tr>\n",
       "      <th>4</th>\n",
       "      <td>6/1/2014 0:07:00</td>\n",
       "      <td>40.6880</td>\n",
       "      <td>-74.1831</td>\n",
       "      <td>B02512</td>\n",
       "    </tr>\n",
       "  </tbody>\n",
       "</table>\n",
       "</div>"
      ],
      "text/plain": [
       "          Date/Time      Lat      Lon    Base\n",
       "0  6/1/2014 0:00:00  40.7293 -73.9920  B02512\n",
       "1  6/1/2014 0:01:00  40.7131 -74.0097  B02512\n",
       "2  6/1/2014 0:04:00  40.3461 -74.6610  B02512\n",
       "3  6/1/2014 0:04:00  40.7555 -73.9833  B02512\n",
       "4  6/1/2014 0:07:00  40.6880 -74.1831  B02512"
      ]
     },
     "execution_count": 9,
     "metadata": {},
     "output_type": "execute_result"
    }
   ],
   "source": [
    "jun.head()"
   ]
  },
  {
   "cell_type": "code",
   "execution_count": 10,
   "metadata": {},
   "outputs": [],
   "source": [
    "may = pd.read_csv(\"uber-raw-data-may14.csv\")"
   ]
  },
  {
   "cell_type": "code",
   "execution_count": 11,
   "metadata": {},
   "outputs": [
    {
     "data": {
      "text/html": [
       "<div>\n",
       "<style scoped>\n",
       "    .dataframe tbody tr th:only-of-type {\n",
       "        vertical-align: middle;\n",
       "    }\n",
       "\n",
       "    .dataframe tbody tr th {\n",
       "        vertical-align: top;\n",
       "    }\n",
       "\n",
       "    .dataframe thead th {\n",
       "        text-align: right;\n",
       "    }\n",
       "</style>\n",
       "<table border=\"1\" class=\"dataframe\">\n",
       "  <thead>\n",
       "    <tr style=\"text-align: right;\">\n",
       "      <th></th>\n",
       "      <th>Date/Time</th>\n",
       "      <th>Lat</th>\n",
       "      <th>Lon</th>\n",
       "      <th>Base</th>\n",
       "    </tr>\n",
       "  </thead>\n",
       "  <tbody>\n",
       "    <tr>\n",
       "      <th>0</th>\n",
       "      <td>5/1/2014 0:02:00</td>\n",
       "      <td>40.7521</td>\n",
       "      <td>-73.9914</td>\n",
       "      <td>B02512</td>\n",
       "    </tr>\n",
       "    <tr>\n",
       "      <th>1</th>\n",
       "      <td>5/1/2014 0:06:00</td>\n",
       "      <td>40.6965</td>\n",
       "      <td>-73.9715</td>\n",
       "      <td>B02512</td>\n",
       "    </tr>\n",
       "    <tr>\n",
       "      <th>2</th>\n",
       "      <td>5/1/2014 0:15:00</td>\n",
       "      <td>40.7464</td>\n",
       "      <td>-73.9838</td>\n",
       "      <td>B02512</td>\n",
       "    </tr>\n",
       "    <tr>\n",
       "      <th>3</th>\n",
       "      <td>5/1/2014 0:17:00</td>\n",
       "      <td>40.7463</td>\n",
       "      <td>-74.0011</td>\n",
       "      <td>B02512</td>\n",
       "    </tr>\n",
       "    <tr>\n",
       "      <th>4</th>\n",
       "      <td>5/1/2014 0:17:00</td>\n",
       "      <td>40.7594</td>\n",
       "      <td>-73.9734</td>\n",
       "      <td>B02512</td>\n",
       "    </tr>\n",
       "  </tbody>\n",
       "</table>\n",
       "</div>"
      ],
      "text/plain": [
       "          Date/Time      Lat      Lon    Base\n",
       "0  5/1/2014 0:02:00  40.7521 -73.9914  B02512\n",
       "1  5/1/2014 0:06:00  40.6965 -73.9715  B02512\n",
       "2  5/1/2014 0:15:00  40.7464 -73.9838  B02512\n",
       "3  5/1/2014 0:17:00  40.7463 -74.0011  B02512\n",
       "4  5/1/2014 0:17:00  40.7594 -73.9734  B02512"
      ]
     },
     "execution_count": 11,
     "metadata": {},
     "output_type": "execute_result"
    }
   ],
   "source": [
    "may.head()"
   ]
  },
  {
   "cell_type": "code",
   "execution_count": 12,
   "metadata": {},
   "outputs": [],
   "source": [
    "sep = pd.read_csv(\"uber-raw-data-sep14.csv\")"
   ]
  },
  {
   "cell_type": "code",
   "execution_count": 13,
   "metadata": {},
   "outputs": [
    {
     "data": {
      "text/html": [
       "<div>\n",
       "<style scoped>\n",
       "    .dataframe tbody tr th:only-of-type {\n",
       "        vertical-align: middle;\n",
       "    }\n",
       "\n",
       "    .dataframe tbody tr th {\n",
       "        vertical-align: top;\n",
       "    }\n",
       "\n",
       "    .dataframe thead th {\n",
       "        text-align: right;\n",
       "    }\n",
       "</style>\n",
       "<table border=\"1\" class=\"dataframe\">\n",
       "  <thead>\n",
       "    <tr style=\"text-align: right;\">\n",
       "      <th></th>\n",
       "      <th>Date/Time</th>\n",
       "      <th>Lat</th>\n",
       "      <th>Lon</th>\n",
       "      <th>Base</th>\n",
       "    </tr>\n",
       "  </thead>\n",
       "  <tbody>\n",
       "    <tr>\n",
       "      <th>0</th>\n",
       "      <td>9/1/2014 0:01:00</td>\n",
       "      <td>40.2201</td>\n",
       "      <td>-74.0021</td>\n",
       "      <td>B02512</td>\n",
       "    </tr>\n",
       "    <tr>\n",
       "      <th>1</th>\n",
       "      <td>9/1/2014 0:01:00</td>\n",
       "      <td>40.7500</td>\n",
       "      <td>-74.0027</td>\n",
       "      <td>B02512</td>\n",
       "    </tr>\n",
       "    <tr>\n",
       "      <th>2</th>\n",
       "      <td>9/1/2014 0:03:00</td>\n",
       "      <td>40.7559</td>\n",
       "      <td>-73.9864</td>\n",
       "      <td>B02512</td>\n",
       "    </tr>\n",
       "    <tr>\n",
       "      <th>3</th>\n",
       "      <td>9/1/2014 0:06:00</td>\n",
       "      <td>40.7450</td>\n",
       "      <td>-73.9889</td>\n",
       "      <td>B02512</td>\n",
       "    </tr>\n",
       "    <tr>\n",
       "      <th>4</th>\n",
       "      <td>9/1/2014 0:11:00</td>\n",
       "      <td>40.8145</td>\n",
       "      <td>-73.9444</td>\n",
       "      <td>B02512</td>\n",
       "    </tr>\n",
       "  </tbody>\n",
       "</table>\n",
       "</div>"
      ],
      "text/plain": [
       "          Date/Time      Lat      Lon    Base\n",
       "0  9/1/2014 0:01:00  40.2201 -74.0021  B02512\n",
       "1  9/1/2014 0:01:00  40.7500 -74.0027  B02512\n",
       "2  9/1/2014 0:03:00  40.7559 -73.9864  B02512\n",
       "3  9/1/2014 0:06:00  40.7450 -73.9889  B02512\n",
       "4  9/1/2014 0:11:00  40.8145 -73.9444  B02512"
      ]
     },
     "execution_count": 13,
     "metadata": {},
     "output_type": "execute_result"
    }
   ],
   "source": [
    "sep.head()"
   ]
  },
  {
   "cell_type": "code",
   "execution_count": 14,
   "metadata": {},
   "outputs": [],
   "source": [
    "df = apr.append(aug)"
   ]
  },
  {
   "cell_type": "code",
   "execution_count": 15,
   "metadata": {},
   "outputs": [
    {
     "data": {
      "text/html": [
       "<div>\n",
       "<style scoped>\n",
       "    .dataframe tbody tr th:only-of-type {\n",
       "        vertical-align: middle;\n",
       "    }\n",
       "\n",
       "    .dataframe tbody tr th {\n",
       "        vertical-align: top;\n",
       "    }\n",
       "\n",
       "    .dataframe thead th {\n",
       "        text-align: right;\n",
       "    }\n",
       "</style>\n",
       "<table border=\"1\" class=\"dataframe\">\n",
       "  <thead>\n",
       "    <tr style=\"text-align: right;\">\n",
       "      <th></th>\n",
       "      <th>Date/Time</th>\n",
       "      <th>Lat</th>\n",
       "      <th>Lon</th>\n",
       "      <th>Base</th>\n",
       "    </tr>\n",
       "  </thead>\n",
       "  <tbody>\n",
       "    <tr>\n",
       "      <th>0</th>\n",
       "      <td>04-01-2014 00:11</td>\n",
       "      <td>40.7690</td>\n",
       "      <td>-73.9549</td>\n",
       "      <td>B02512</td>\n",
       "    </tr>\n",
       "    <tr>\n",
       "      <th>1</th>\n",
       "      <td>04-01-2014 00:17</td>\n",
       "      <td>40.7267</td>\n",
       "      <td>-74.0345</td>\n",
       "      <td>B02512</td>\n",
       "    </tr>\n",
       "    <tr>\n",
       "      <th>2</th>\n",
       "      <td>04-01-2014 00:21</td>\n",
       "      <td>40.7316</td>\n",
       "      <td>-73.9873</td>\n",
       "      <td>B02512</td>\n",
       "    </tr>\n",
       "    <tr>\n",
       "      <th>3</th>\n",
       "      <td>04-01-2014 00:28</td>\n",
       "      <td>40.7588</td>\n",
       "      <td>-73.9776</td>\n",
       "      <td>B02512</td>\n",
       "    </tr>\n",
       "    <tr>\n",
       "      <th>4</th>\n",
       "      <td>04-01-2014 00:33</td>\n",
       "      <td>40.7594</td>\n",
       "      <td>-73.9722</td>\n",
       "      <td>B02512</td>\n",
       "    </tr>\n",
       "  </tbody>\n",
       "</table>\n",
       "</div>"
      ],
      "text/plain": [
       "          Date/Time      Lat      Lon    Base\n",
       "0  04-01-2014 00:11  40.7690 -73.9549  B02512\n",
       "1  04-01-2014 00:17  40.7267 -74.0345  B02512\n",
       "2  04-01-2014 00:21  40.7316 -73.9873  B02512\n",
       "3  04-01-2014 00:28  40.7588 -73.9776  B02512\n",
       "4  04-01-2014 00:33  40.7594 -73.9722  B02512"
      ]
     },
     "execution_count": 15,
     "metadata": {},
     "output_type": "execute_result"
    }
   ],
   "source": [
    "df.head()"
   ]
  },
  {
   "cell_type": "code",
   "execution_count": 16,
   "metadata": {},
   "outputs": [
    {
     "data": {
      "text/html": [
       "<div>\n",
       "<style scoped>\n",
       "    .dataframe tbody tr th:only-of-type {\n",
       "        vertical-align: middle;\n",
       "    }\n",
       "\n",
       "    .dataframe tbody tr th {\n",
       "        vertical-align: top;\n",
       "    }\n",
       "\n",
       "    .dataframe thead th {\n",
       "        text-align: right;\n",
       "    }\n",
       "</style>\n",
       "<table border=\"1\" class=\"dataframe\">\n",
       "  <thead>\n",
       "    <tr style=\"text-align: right;\">\n",
       "      <th></th>\n",
       "      <th>Date/Time</th>\n",
       "      <th>Lat</th>\n",
       "      <th>Lon</th>\n",
       "      <th>Base</th>\n",
       "    </tr>\n",
       "  </thead>\n",
       "  <tbody>\n",
       "    <tr>\n",
       "      <th>829270</th>\n",
       "      <td>8/31/2014 23:55:00</td>\n",
       "      <td>40.7552</td>\n",
       "      <td>-73.9753</td>\n",
       "      <td>B02764</td>\n",
       "    </tr>\n",
       "    <tr>\n",
       "      <th>829271</th>\n",
       "      <td>8/31/2014 23:55:00</td>\n",
       "      <td>40.7552</td>\n",
       "      <td>-73.9753</td>\n",
       "      <td>B02764</td>\n",
       "    </tr>\n",
       "    <tr>\n",
       "      <th>829272</th>\n",
       "      <td>8/31/2014 23:55:00</td>\n",
       "      <td>40.7617</td>\n",
       "      <td>-73.9788</td>\n",
       "      <td>B02764</td>\n",
       "    </tr>\n",
       "    <tr>\n",
       "      <th>829273</th>\n",
       "      <td>8/31/2014 23:59:00</td>\n",
       "      <td>40.7395</td>\n",
       "      <td>-73.9889</td>\n",
       "      <td>B02764</td>\n",
       "    </tr>\n",
       "    <tr>\n",
       "      <th>829274</th>\n",
       "      <td>8/31/2014 23:59:00</td>\n",
       "      <td>40.7270</td>\n",
       "      <td>-73.9802</td>\n",
       "      <td>B02764</td>\n",
       "    </tr>\n",
       "  </tbody>\n",
       "</table>\n",
       "</div>"
      ],
      "text/plain": [
       "                 Date/Time      Lat      Lon    Base\n",
       "829270  8/31/2014 23:55:00  40.7552 -73.9753  B02764\n",
       "829271  8/31/2014 23:55:00  40.7552 -73.9753  B02764\n",
       "829272  8/31/2014 23:55:00  40.7617 -73.9788  B02764\n",
       "829273  8/31/2014 23:59:00  40.7395 -73.9889  B02764\n",
       "829274  8/31/2014 23:59:00  40.7270 -73.9802  B02764"
      ]
     },
     "execution_count": 16,
     "metadata": {},
     "output_type": "execute_result"
    }
   ],
   "source": [
    "df.tail()"
   ]
  },
  {
   "cell_type": "code",
   "execution_count": 17,
   "metadata": {},
   "outputs": [],
   "source": [
    "df1 = df.append(jun)"
   ]
  },
  {
   "cell_type": "code",
   "execution_count": 19,
   "metadata": {},
   "outputs": [
    {
     "data": {
      "text/html": [
       "<div>\n",
       "<style scoped>\n",
       "    .dataframe tbody tr th:only-of-type {\n",
       "        vertical-align: middle;\n",
       "    }\n",
       "\n",
       "    .dataframe tbody tr th {\n",
       "        vertical-align: top;\n",
       "    }\n",
       "\n",
       "    .dataframe thead th {\n",
       "        text-align: right;\n",
       "    }\n",
       "</style>\n",
       "<table border=\"1\" class=\"dataframe\">\n",
       "  <thead>\n",
       "    <tr style=\"text-align: right;\">\n",
       "      <th></th>\n",
       "      <th>Date/Time</th>\n",
       "      <th>Lat</th>\n",
       "      <th>Lon</th>\n",
       "      <th>Base</th>\n",
       "    </tr>\n",
       "  </thead>\n",
       "  <tbody>\n",
       "    <tr>\n",
       "      <th>663839</th>\n",
       "      <td>6/30/2014 22:40:00</td>\n",
       "      <td>40.7332</td>\n",
       "      <td>-73.9872</td>\n",
       "      <td>B02764</td>\n",
       "    </tr>\n",
       "    <tr>\n",
       "      <th>663840</th>\n",
       "      <td>6/30/2014 23:12:00</td>\n",
       "      <td>40.7905</td>\n",
       "      <td>-73.9796</td>\n",
       "      <td>B02764</td>\n",
       "    </tr>\n",
       "    <tr>\n",
       "      <th>663841</th>\n",
       "      <td>6/30/2014 23:13:00</td>\n",
       "      <td>40.7640</td>\n",
       "      <td>-73.9887</td>\n",
       "      <td>B02764</td>\n",
       "    </tr>\n",
       "    <tr>\n",
       "      <th>663842</th>\n",
       "      <td>6/30/2014 23:15:00</td>\n",
       "      <td>40.7262</td>\n",
       "      <td>-73.9944</td>\n",
       "      <td>B02764</td>\n",
       "    </tr>\n",
       "    <tr>\n",
       "      <th>663843</th>\n",
       "      <td>6/30/2014 23:35:00</td>\n",
       "      <td>40.7404</td>\n",
       "      <td>-73.9848</td>\n",
       "      <td>B02764</td>\n",
       "    </tr>\n",
       "  </tbody>\n",
       "</table>\n",
       "</div>"
      ],
      "text/plain": [
       "                 Date/Time      Lat      Lon    Base\n",
       "663839  6/30/2014 22:40:00  40.7332 -73.9872  B02764\n",
       "663840  6/30/2014 23:12:00  40.7905 -73.9796  B02764\n",
       "663841  6/30/2014 23:13:00  40.7640 -73.9887  B02764\n",
       "663842  6/30/2014 23:15:00  40.7262 -73.9944  B02764\n",
       "663843  6/30/2014 23:35:00  40.7404 -73.9848  B02764"
      ]
     },
     "execution_count": 19,
     "metadata": {},
     "output_type": "execute_result"
    }
   ],
   "source": [
    "df1.tail()"
   ]
  },
  {
   "cell_type": "code",
   "execution_count": 20,
   "metadata": {},
   "outputs": [],
   "source": [
    "df2 = df1.append(jul)"
   ]
  },
  {
   "cell_type": "code",
   "execution_count": 21,
   "metadata": {},
   "outputs": [
    {
     "data": {
      "text/html": [
       "<div>\n",
       "<style scoped>\n",
       "    .dataframe tbody tr th:only-of-type {\n",
       "        vertical-align: middle;\n",
       "    }\n",
       "\n",
       "    .dataframe tbody tr th {\n",
       "        vertical-align: top;\n",
       "    }\n",
       "\n",
       "    .dataframe thead th {\n",
       "        text-align: right;\n",
       "    }\n",
       "</style>\n",
       "<table border=\"1\" class=\"dataframe\">\n",
       "  <thead>\n",
       "    <tr style=\"text-align: right;\">\n",
       "      <th></th>\n",
       "      <th>Date/Time</th>\n",
       "      <th>Lat</th>\n",
       "      <th>Lon</th>\n",
       "      <th>Base</th>\n",
       "    </tr>\n",
       "  </thead>\n",
       "  <tbody>\n",
       "    <tr>\n",
       "      <th>796116</th>\n",
       "      <td>7/31/2014 23:22:00</td>\n",
       "      <td>40.7285</td>\n",
       "      <td>-73.9846</td>\n",
       "      <td>B02764</td>\n",
       "    </tr>\n",
       "    <tr>\n",
       "      <th>796117</th>\n",
       "      <td>7/31/2014 23:23:00</td>\n",
       "      <td>40.7615</td>\n",
       "      <td>-73.9868</td>\n",
       "      <td>B02764</td>\n",
       "    </tr>\n",
       "    <tr>\n",
       "      <th>796118</th>\n",
       "      <td>7/31/2014 23:29:00</td>\n",
       "      <td>40.6770</td>\n",
       "      <td>-73.9515</td>\n",
       "      <td>B02764</td>\n",
       "    </tr>\n",
       "    <tr>\n",
       "      <th>796119</th>\n",
       "      <td>7/31/2014 23:30:00</td>\n",
       "      <td>40.7225</td>\n",
       "      <td>-74.0038</td>\n",
       "      <td>B02764</td>\n",
       "    </tr>\n",
       "    <tr>\n",
       "      <th>796120</th>\n",
       "      <td>7/31/2014 23:58:00</td>\n",
       "      <td>40.7199</td>\n",
       "      <td>-73.9884</td>\n",
       "      <td>B02764</td>\n",
       "    </tr>\n",
       "  </tbody>\n",
       "</table>\n",
       "</div>"
      ],
      "text/plain": [
       "                 Date/Time      Lat      Lon    Base\n",
       "796116  7/31/2014 23:22:00  40.7285 -73.9846  B02764\n",
       "796117  7/31/2014 23:23:00  40.7615 -73.9868  B02764\n",
       "796118  7/31/2014 23:29:00  40.6770 -73.9515  B02764\n",
       "796119  7/31/2014 23:30:00  40.7225 -74.0038  B02764\n",
       "796120  7/31/2014 23:58:00  40.7199 -73.9884  B02764"
      ]
     },
     "execution_count": 21,
     "metadata": {},
     "output_type": "execute_result"
    }
   ],
   "source": [
    "df2.tail()"
   ]
  },
  {
   "cell_type": "code",
   "execution_count": 22,
   "metadata": {},
   "outputs": [],
   "source": [
    "df3 = df2.append(may)"
   ]
  },
  {
   "cell_type": "code",
   "execution_count": 23,
   "metadata": {},
   "outputs": [
    {
     "data": {
      "text/html": [
       "<div>\n",
       "<style scoped>\n",
       "    .dataframe tbody tr th:only-of-type {\n",
       "        vertical-align: middle;\n",
       "    }\n",
       "\n",
       "    .dataframe tbody tr th {\n",
       "        vertical-align: top;\n",
       "    }\n",
       "\n",
       "    .dataframe thead th {\n",
       "        text-align: right;\n",
       "    }\n",
       "</style>\n",
       "<table border=\"1\" class=\"dataframe\">\n",
       "  <thead>\n",
       "    <tr style=\"text-align: right;\">\n",
       "      <th></th>\n",
       "      <th>Date/Time</th>\n",
       "      <th>Lat</th>\n",
       "      <th>Lon</th>\n",
       "      <th>Base</th>\n",
       "    </tr>\n",
       "  </thead>\n",
       "  <tbody>\n",
       "    <tr>\n",
       "      <th>652430</th>\n",
       "      <td>5/31/2014 23:45:00</td>\n",
       "      <td>40.7309</td>\n",
       "      <td>-74.0014</td>\n",
       "      <td>B02764</td>\n",
       "    </tr>\n",
       "    <tr>\n",
       "      <th>652431</th>\n",
       "      <td>5/31/2014 23:52:00</td>\n",
       "      <td>40.7528</td>\n",
       "      <td>-73.9798</td>\n",
       "      <td>B02764</td>\n",
       "    </tr>\n",
       "    <tr>\n",
       "      <th>652432</th>\n",
       "      <td>5/31/2014 23:55:00</td>\n",
       "      <td>40.7158</td>\n",
       "      <td>-73.9519</td>\n",
       "      <td>B02764</td>\n",
       "    </tr>\n",
       "    <tr>\n",
       "      <th>652433</th>\n",
       "      <td>5/31/2014 23:56:00</td>\n",
       "      <td>40.6961</td>\n",
       "      <td>-73.8997</td>\n",
       "      <td>B02764</td>\n",
       "    </tr>\n",
       "    <tr>\n",
       "      <th>652434</th>\n",
       "      <td>5/31/2014 23:59:00</td>\n",
       "      <td>40.7393</td>\n",
       "      <td>-73.9919</td>\n",
       "      <td>B02764</td>\n",
       "    </tr>\n",
       "  </tbody>\n",
       "</table>\n",
       "</div>"
      ],
      "text/plain": [
       "                 Date/Time      Lat      Lon    Base\n",
       "652430  5/31/2014 23:45:00  40.7309 -74.0014  B02764\n",
       "652431  5/31/2014 23:52:00  40.7528 -73.9798  B02764\n",
       "652432  5/31/2014 23:55:00  40.7158 -73.9519  B02764\n",
       "652433  5/31/2014 23:56:00  40.6961 -73.8997  B02764\n",
       "652434  5/31/2014 23:59:00  40.7393 -73.9919  B02764"
      ]
     },
     "execution_count": 23,
     "metadata": {},
     "output_type": "execute_result"
    }
   ],
   "source": [
    "df3.tail()"
   ]
  },
  {
   "cell_type": "code",
   "execution_count": 24,
   "metadata": {},
   "outputs": [],
   "source": [
    "data = df3.append(sep)"
   ]
  },
  {
   "cell_type": "code",
   "execution_count": 25,
   "metadata": {},
   "outputs": [
    {
     "data": {
      "text/html": [
       "<div>\n",
       "<style scoped>\n",
       "    .dataframe tbody tr th:only-of-type {\n",
       "        vertical-align: middle;\n",
       "    }\n",
       "\n",
       "    .dataframe tbody tr th {\n",
       "        vertical-align: top;\n",
       "    }\n",
       "\n",
       "    .dataframe thead th {\n",
       "        text-align: right;\n",
       "    }\n",
       "</style>\n",
       "<table border=\"1\" class=\"dataframe\">\n",
       "  <thead>\n",
       "    <tr style=\"text-align: right;\">\n",
       "      <th></th>\n",
       "      <th>Date/Time</th>\n",
       "      <th>Lat</th>\n",
       "      <th>Lon</th>\n",
       "      <th>Base</th>\n",
       "    </tr>\n",
       "  </thead>\n",
       "  <tbody>\n",
       "    <tr>\n",
       "      <th>1028131</th>\n",
       "      <td>9/30/2014 22:57:00</td>\n",
       "      <td>40.7668</td>\n",
       "      <td>-73.9845</td>\n",
       "      <td>B02764</td>\n",
       "    </tr>\n",
       "    <tr>\n",
       "      <th>1028132</th>\n",
       "      <td>9/30/2014 22:57:00</td>\n",
       "      <td>40.6911</td>\n",
       "      <td>-74.1773</td>\n",
       "      <td>B02764</td>\n",
       "    </tr>\n",
       "    <tr>\n",
       "      <th>1028133</th>\n",
       "      <td>9/30/2014 22:58:00</td>\n",
       "      <td>40.8519</td>\n",
       "      <td>-73.9319</td>\n",
       "      <td>B02764</td>\n",
       "    </tr>\n",
       "    <tr>\n",
       "      <th>1028134</th>\n",
       "      <td>9/30/2014 22:58:00</td>\n",
       "      <td>40.7081</td>\n",
       "      <td>-74.0066</td>\n",
       "      <td>B02764</td>\n",
       "    </tr>\n",
       "    <tr>\n",
       "      <th>1028135</th>\n",
       "      <td>9/30/2014 22:58:00</td>\n",
       "      <td>40.7140</td>\n",
       "      <td>-73.9496</td>\n",
       "      <td>B02764</td>\n",
       "    </tr>\n",
       "  </tbody>\n",
       "</table>\n",
       "</div>"
      ],
      "text/plain": [
       "                  Date/Time      Lat      Lon    Base\n",
       "1028131  9/30/2014 22:57:00  40.7668 -73.9845  B02764\n",
       "1028132  9/30/2014 22:57:00  40.6911 -74.1773  B02764\n",
       "1028133  9/30/2014 22:58:00  40.8519 -73.9319  B02764\n",
       "1028134  9/30/2014 22:58:00  40.7081 -74.0066  B02764\n",
       "1028135  9/30/2014 22:58:00  40.7140 -73.9496  B02764"
      ]
     },
     "execution_count": 25,
     "metadata": {},
     "output_type": "execute_result"
    }
   ],
   "source": [
    "data.tail()"
   ]
  },
  {
   "cell_type": "code",
   "execution_count": 26,
   "metadata": {},
   "outputs": [
    {
     "data": {
      "text/plain": [
       "Base\n",
       "B02512     205673\n",
       "B02598    1393113\n",
       "B02617    1458853\n",
       "B02682    1212789\n",
       "B02764     263899\n",
       "dtype: int64"
      ]
     },
     "execution_count": 26,
     "metadata": {},
     "output_type": "execute_result"
    }
   ],
   "source": [
    "def count_rows(rows):\n",
    "    return len(rows)\n",
    "\n",
    "by_basecode = data.groupby('Base').apply(count_rows)\n",
    "by_basecode"
   ]
  },
  {
   "cell_type": "code",
   "execution_count": 29,
   "metadata": {},
   "outputs": [
    {
     "name": "stdout",
     "output_type": "stream",
     "text": [
      "<class 'pandas.core.frame.DataFrame'>\n",
      "Int64Index: 4534327 entries, 0 to 1028135\n",
      "Data columns (total 4 columns):\n",
      " #   Column     Dtype  \n",
      "---  ------     -----  \n",
      " 0   Date/Time  object \n",
      " 1   Lat        float64\n",
      " 2   Lon        float64\n",
      " 3   Base       object \n",
      "dtypes: float64(2), object(2)\n",
      "memory usage: 173.0+ MB\n"
     ]
    }
   ],
   "source": [
    "data.info()"
   ]
  },
  {
   "cell_type": "code",
   "execution_count": 30,
   "metadata": {},
   "outputs": [
    {
     "data": {
      "text/plain": [
       "<bound method NDFrame.describe of                   Date/Time      Lat      Lon    Base\n",
       "0          04-01-2014 00:11  40.7690 -73.9549  B02512\n",
       "1          04-01-2014 00:17  40.7267 -74.0345  B02512\n",
       "2          04-01-2014 00:21  40.7316 -73.9873  B02512\n",
       "3          04-01-2014 00:28  40.7588 -73.9776  B02512\n",
       "4          04-01-2014 00:33  40.7594 -73.9722  B02512\n",
       "...                     ...      ...      ...     ...\n",
       "1028131  9/30/2014 22:57:00  40.7668 -73.9845  B02764\n",
       "1028132  9/30/2014 22:57:00  40.6911 -74.1773  B02764\n",
       "1028133  9/30/2014 22:58:00  40.8519 -73.9319  B02764\n",
       "1028134  9/30/2014 22:58:00  40.7081 -74.0066  B02764\n",
       "1028135  9/30/2014 22:58:00  40.7140 -73.9496  B02764\n",
       "\n",
       "[4534327 rows x 4 columns]>"
      ]
     },
     "execution_count": 30,
     "metadata": {},
     "output_type": "execute_result"
    }
   ],
   "source": [
    "data.describe"
   ]
  },
  {
   "cell_type": "code",
   "execution_count": 34,
   "metadata": {},
   "outputs": [
    {
     "data": {
      "text/html": [
       "<div>\n",
       "<style scoped>\n",
       "    .dataframe tbody tr th:only-of-type {\n",
       "        vertical-align: middle;\n",
       "    }\n",
       "\n",
       "    .dataframe tbody tr th {\n",
       "        vertical-align: top;\n",
       "    }\n",
       "\n",
       "    .dataframe thead th {\n",
       "        text-align: right;\n",
       "    }\n",
       "</style>\n",
       "<table border=\"1\" class=\"dataframe\">\n",
       "  <thead>\n",
       "    <tr style=\"text-align: right;\">\n",
       "      <th></th>\n",
       "      <th>Lat</th>\n",
       "      <th>Lon</th>\n",
       "    </tr>\n",
       "  </thead>\n",
       "  <tbody>\n",
       "    <tr>\n",
       "      <th>count</th>\n",
       "      <td>4.534327e+06</td>\n",
       "      <td>4.534327e+06</td>\n",
       "    </tr>\n",
       "    <tr>\n",
       "      <th>mean</th>\n",
       "      <td>4.073926e+01</td>\n",
       "      <td>-7.397302e+01</td>\n",
       "    </tr>\n",
       "    <tr>\n",
       "      <th>std</th>\n",
       "      <td>3.994991e-02</td>\n",
       "      <td>5.726670e-02</td>\n",
       "    </tr>\n",
       "    <tr>\n",
       "      <th>min</th>\n",
       "      <td>3.965690e+01</td>\n",
       "      <td>-7.492900e+01</td>\n",
       "    </tr>\n",
       "    <tr>\n",
       "      <th>25%</th>\n",
       "      <td>4.072110e+01</td>\n",
       "      <td>-7.399650e+01</td>\n",
       "    </tr>\n",
       "    <tr>\n",
       "      <th>50%</th>\n",
       "      <td>4.074220e+01</td>\n",
       "      <td>-7.398340e+01</td>\n",
       "    </tr>\n",
       "    <tr>\n",
       "      <th>75%</th>\n",
       "      <td>4.076100e+01</td>\n",
       "      <td>-7.396530e+01</td>\n",
       "    </tr>\n",
       "    <tr>\n",
       "      <th>max</th>\n",
       "      <td>4.211660e+01</td>\n",
       "      <td>-7.206660e+01</td>\n",
       "    </tr>\n",
       "  </tbody>\n",
       "</table>\n",
       "</div>"
      ],
      "text/plain": [
       "                Lat           Lon\n",
       "count  4.534327e+06  4.534327e+06\n",
       "mean   4.073926e+01 -7.397302e+01\n",
       "std    3.994991e-02  5.726670e-02\n",
       "min    3.965690e+01 -7.492900e+01\n",
       "25%    4.072110e+01 -7.399650e+01\n",
       "50%    4.074220e+01 -7.398340e+01\n",
       "75%    4.076100e+01 -7.396530e+01\n",
       "max    4.211660e+01 -7.206660e+01"
      ]
     },
     "execution_count": 34,
     "metadata": {},
     "output_type": "execute_result"
    }
   ],
   "source": [
    "data.describe()"
   ]
  },
  {
   "cell_type": "code",
   "execution_count": 36,
   "metadata": {},
   "outputs": [
    {
     "data": {
      "text/plain": [
       "(4534327, 4)"
      ]
     },
     "execution_count": 36,
     "metadata": {},
     "output_type": "execute_result"
    }
   ],
   "source": [
    "data.shape"
   ]
  },
  {
   "cell_type": "code",
   "execution_count": 37,
   "metadata": {},
   "outputs": [
    {
     "data": {
      "text/plain": [
       "Date/Time    False\n",
       "Lat          False\n",
       "Lon          False\n",
       "Base         False\n",
       "dtype: bool"
      ]
     },
     "execution_count": 37,
     "metadata": {},
     "output_type": "execute_result"
    }
   ],
   "source": [
    "data.isnull().any()"
   ]
  },
  {
   "cell_type": "code",
   "execution_count": null,
   "metadata": {},
   "outputs": [],
   "source": []
  }
 ],
 "metadata": {
  "kernelspec": {
   "display_name": "Python 3",
   "language": "python",
   "name": "python3"
  },
  "language_info": {
   "codemirror_mode": {
    "name": "ipython",
    "version": 3
   },
   "file_extension": ".py",
   "mimetype": "text/x-python",
   "name": "python",
   "nbconvert_exporter": "python",
   "pygments_lexer": "ipython3",
   "version": "3.7.6"
  }
 },
 "nbformat": 4,
 "nbformat_minor": 4
}
